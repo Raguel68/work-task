{
 "cells": [
  {
   "cell_type": "code",
   "execution_count": 57,
   "id": "84660e1b-5463-4831-be93-783c3d238618",
   "metadata": {},
   "outputs": [
    {
     "name": "stdin",
     "output_type": "stream",
     "text": [
      "Введите путь к открываемому файлу и флаги:  untitled.txt\n"
     ]
    },
    {
     "name": "stdout",
     "output_type": "stream",
     "text": [
      "Количество символов = 3\n",
      "\n",
      "Количество слов = 2\n",
      "\n",
      "Количество строк = 2\n",
      "\n"
     ]
    }
   ],
   "source": [
    "alph = {'q', 'a', 'z', 'w', 's', 'x', 'e', 'd', 'c', 'r', 'f', 'v', 't', 'g', 'b', 'y', 'h', 'n', 'u', 'j', 'm', 'i', 'k', 'o', 'l', 'p'}\n",
    "def analysis(way):\n",
    "    #путь к файлу может быть и абсолютным и относительным в питоне, поэтому без разницы стоит ли флаг --file\n",
    "    flag = 0;\n",
    "    slovv = dict();\n",
    "    count_s = 0;\n",
    "    count_w = 0;\n",
    "    count_l = 0;\n",
    "    while ((' --file' in way) or (' --top N' in way)):\n",
    "        if (way[-1] == 'N'):\n",
    "            way = way[:-8];\n",
    "            flag = 1;\n",
    "        elif (way[-1] == 'e'):\n",
    "            way = way[:-7];\n",
    "    file = open(way);\n",
    "    xx = file.readlines();\n",
    "    for x in xx:\n",
    "        x.replace(',', '');\n",
    "        x.replace('!', '');\n",
    "        x.replace('\"', '');\n",
    "        x.replace(';', '');\n",
    "        x.replace('-', '');\n",
    "        x.replace(':', '');\n",
    "        x.replace('(', '');\n",
    "        x.replace(')', '');\n",
    "        x.replace('?', '');\n",
    "        x.replace(\"'\", \"\");\n",
    "        x = x.rstrip('\\n');\n",
    "        slov = x.split(' ');\n",
    "        count_w += len(slov);\n",
    "        x = x.replace(' ', '')\n",
    "        count_s += len(x);\n",
    "        count_l += 1;\n",
    "        for i in slov:\n",
    "            if (i in slovv):\n",
    "                slovv[i] += 1;\n",
    "            else:\n",
    "                slovv[i] = 1;\n",
    "    file.close();\n",
    "    slovvv = sorted(slovv.items(), key=lambda item: item[1], reverse = True);\n",
    "    print('Количество символов = ' + str(count_s) + '\\n')\n",
    "    print('Количество слов = ' + str(count_w) + '\\n')\n",
    "    print('Количество строк = ' + str(count_l) + '\\n')\n",
    "    if (flag == 1):\n",
    "        print('Топ 10 слов по популярности:\\n')\n",
    "        count = 0\n",
    "        for i in slovvv:\n",
    "            if (count >= 10):\n",
    "                break;\n",
    "            print(str(i) + ':' + str(slovvv[i]))\n",
    "            count += 1;\n",
    "def main():\n",
    "    way = input('Введите путь к открываемому файлу и флаги: ')\n",
    "    analysis(way);\n",
    "main();"
   ]
  },
  {
   "cell_type": "code",
   "execution_count": null,
   "id": "43d6c043-d990-40b9-af6b-49294e2d3b6d",
   "metadata": {},
   "outputs": [],
   "source": []
  }
 ],
 "metadata": {
  "kernelspec": {
   "display_name": "Python [conda env:base] *",
   "language": "python",
   "name": "conda-base-py"
  },
  "language_info": {
   "codemirror_mode": {
    "name": "ipython",
    "version": 3
   },
   "file_extension": ".py",
   "mimetype": "text/x-python",
   "name": "python",
   "nbconvert_exporter": "python",
   "pygments_lexer": "ipython3",
   "version": "3.12.7"
  }
 },
 "nbformat": 4,
 "nbformat_minor": 5
}
