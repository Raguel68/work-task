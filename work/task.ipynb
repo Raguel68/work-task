{
 "cells": [
  {
   "cell_type": "code",
   "execution_count": 1,
   "id": "adbe1f4e-8928-4212-a0c9-af873b891d07",
   "metadata": {},
   "outputs": [],
   "source": [
    "import psycopg2\n",
    "from psycopg2 import Error\n",
    "def request(username, passw, id_us):\n",
    "    try:\n",
    "        # Подключение к существующей базе данных PostgreSQL\n",
    "        connection = psycopg2.connect(user=username, password=passw, host=\"127.0.0.1\", port=\"5432\", database=\"postgres_db\")\n",
    "        # Курсор для выполнения операций с базой данных\n",
    "        cursor = connection.cursor()\n",
    "        # Выполнение SQL-запроса\n",
    "        cursor.execute(\"SELECT id, subscribe FROM users WHERE id = \" + id_us)\n",
    "        # Получить результат\n",
    "        record = cursor.fetchone()\n",
    "    except (Exception, Error) as error:\n",
    "        print(\"Ошибка при работе с PostgreSQL\", error)\n",
    "    finally:\n",
    "        if connection:\n",
    "            cursor.close()\n",
    "            connection.close()\n",
    "            return record[1]\n",
    "def adding(username, passw, id_us):\n",
    "    try:\n",
    "        # Подключение к существующей базе данных PostgreSQL\n",
    "        connection = psycopg2.connect(user=username, password=passw, host=\"127.0.0.1\", port=\"5432\", database=\"postgres_db\")\n",
    "        # Курсор для выполнения операций с базой данных\n",
    "        cursor = connection.cursor()\n",
    "        # Выполнение SQL-запроса\n",
    "        cursor.execute(\"INSERT INTO users (id, subscribe) VALUES (\" + id_us + \", True)\")\n",
    "        connection.commit()\n",
    "    except (Exception, Error) as error:\n",
    "        print(\"Ошибка при работе с PostgreSQL\", error)\n",
    "    finally:\n",
    "        if connection:\n",
    "            cursor.close()\n",
    "            connection.close()"
   ]
  },
  {
   "cell_type": "code",
   "execution_count": null,
   "id": "e6915c82-e753-4621-9881-7aef01556271",
   "metadata": {},
   "outputs": [],
   "source": []
  }
 ],
 "metadata": {
  "kernelspec": {
   "display_name": "Python [conda env:base] *",
   "language": "python",
   "name": "conda-base-py"
  },
  "language_info": {
   "codemirror_mode": {
    "name": "ipython",
    "version": 3
   },
   "file_extension": ".py",
   "mimetype": "text/x-python",
   "name": "python",
   "nbconvert_exporter": "python",
   "pygments_lexer": "ipython3",
   "version": "3.12.7"
  }
 },
 "nbformat": 4,
 "nbformat_minor": 5
}
